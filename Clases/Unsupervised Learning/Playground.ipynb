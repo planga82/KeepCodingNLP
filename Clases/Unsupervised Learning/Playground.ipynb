{
  "nbformat": 4,
  "nbformat_minor": 0,
  "metadata": {
    "colab": {
      "name": "Playground.ipynb",
      "version": "0.3.2",
      "views": {},
      "default_view": {},
      "provenance": [],
      "collapsed_sections": [
        "AfdNWt3H4vWK",
        "d7s757iWNdm1"
      ]
    },
    "kernelspec": {
      "name": "python3",
      "display_name": "Python 3"
    }
  },
  "cells": [
    {
      "metadata": {
        "id": "tPS2UH4oo72E",
        "colab_type": "text"
      },
      "cell_type": "markdown",
      "source": [
        "# Word Embeddings Playground\n",
        "\n",
        "<div align=\"center\">\n",
        "![](https://cnet1.cbsistatic.com/img/Dhbs5P8xdv7rZSgZaKA1G7CgcnI=/970x0/2018/06/12/9254724c-44b8-4100-bce5-0898a8136a3c/nintendoswitch-fortnite-e3screenshot-2.png)\n",
        "</div>\n",
        "\n",
        "> **¿Qué podemos hacer sólo con word embeddings?**"
      ]
    },
    {
      "metadata": {
        "id": "N9s68STgNdlq",
        "colab_type": "code",
        "colab": {
          "autoexec": {
            "startup": false,
            "wait_interval": 0
          }
        }
      },
      "cell_type": "code",
      "source": [
        "import numpy as np\n",
        "from tqdm import tqdm\n",
        "import json\n",
        "import io\n",
        "\n",
        "from sklearn.metrics.pairwise import cosine_similarity"
      ],
      "execution_count": 0,
      "outputs": []
    },
    {
      "metadata": {
        "id": "YKe1xe5f2QGi",
        "colab_type": "text"
      },
      "cell_type": "markdown",
      "source": [
        "## Load embeddings"
      ]
    },
    {
      "metadata": {
        "id": "zllizlSLNdlu",
        "colab_type": "code",
        "colab": {
          "autoexec": {
            "startup": false,
            "wait_interval": 0
          }
        }
      },
      "cell_type": "code",
      "source": [
        "def loadGloveModel(gloveFile):\n",
        "    f = gloveFile.split('\\n')\n",
        "    model = {}\n",
        "    for line in tqdm(f):\n",
        "        splitLine = line.split()\n",
        "        word = splitLine[0]\n",
        "        embedding = np.array([float(val) for val in splitLine[1:]])\n",
        "        print(word, embedding.shape)\n",
        "        model[word] = embedding\n",
        "    print (\"Done.\",len(model),\" words loaded!\")\n",
        "    return model"
      ],
      "execution_count": 0,
      "outputs": []
    },
    {
      "metadata": {
        "id": "ZSO9ul0DNdlx",
        "colab_type": "code",
        "colab": {
          "autoexec": {
            "startup": false,
            "wait_interval": 0
          }
        }
      },
      "cell_type": "code",
      "source": [
        "# cargar pre-trained embeddings\n",
        "from google.colab import files\n",
        "\n",
        "uploaded = files.upload()\n",
        "\n",
        "for fn in uploaded.keys():\n",
        "  print('User uploaded file \"{name}\" with length {length} bytes'.format(\n",
        "      name=fn, length=len(uploaded[fn])))\n",
        "\n"
      ],
      "execution_count": 0,
      "outputs": []
    },
    {
      "metadata": {
        "id": "YsnddojqiU_F",
        "colab_type": "code",
        "colab": {
          "autoexec": {
            "startup": false,
            "wait_interval": 0
          }
        }
      },
      "cell_type": "code",
      "source": [
        "glove = uploaded['glove.6B.50d.txt']\n",
        "glove = io.StringIO(glove.decode('utf-8')).getvalue()\n",
        "\n",
        "model = loadGloveModel(glove)"
      ],
      "execution_count": 0,
      "outputs": []
    },
    {
      "metadata": {
        "id": "DqTiBJHS2oHs",
        "colab_type": "text"
      },
      "cell_type": "markdown",
      "source": [
        "## Preparar Matrices"
      ]
    },
    {
      "metadata": {
        "id": "69l60ArbNdl2",
        "colab_type": "code",
        "colab": {
          "autoexec": {
            "startup": false,
            "wait_interval": 0
          },
          "base_uri": "https://localhost:8080/",
          "height": 37
        },
        "outputId": "b2612f95-94d6-4fbf-d3f0-9729d9fa3802",
        "executionInfo": {
          "status": "ok",
          "timestamp": 1530786296431,
          "user_tz": -120,
          "elapsed": 657,
          "user": {
            "displayName": "David Torrejon",
            "photoUrl": "https://lh3.googleusercontent.com/a/default-user=s128",
            "userId": "100674754889499666756"
          }
        }
      },
      "cell_type": "code",
      "source": [
        "    "
      ],
      "execution_count": 0,
      "outputs": []
    },
    {
      "metadata": {
        "id": "wwQs2Cx0Ndl4",
        "colab_type": "code",
        "colab": {
          "autoexec": {
            "startup": false,
            "wait_interval": 0
          },
          "base_uri": "https://localhost:8080/",
          "height": 37
        },
        "outputId": "643bbad0-c919-42d8-9168-8a14aecabeef",
        "executionInfo": {
          "status": "ok",
          "timestamp": 1530786298129,
          "user_tz": -120,
          "elapsed": 420,
          "user": {
            "displayName": "David Torrejon",
            "photoUrl": "https://lh3.googleusercontent.com/a/default-user=s128",
            "userId": "100674754889499666756"
          }
        }
      },
      "cell_type": "code",
      "source": [
        ""
      ],
      "execution_count": 0,
      "outputs": []
    },
    {
      "metadata": {
        "id": "KeIJCGrGNdl7",
        "colab_type": "code",
        "colab": {
          "autoexec": {
            "startup": false,
            "wait_interval": 0
          },
          "base_uri": "https://localhost:8080/",
          "height": 17
        },
        "outputId": "d9cc68fe-27cb-4a06-c64d-411c4081d041",
        "executionInfo": {
          "status": "ok",
          "timestamp": 1530786298726,
          "user_tz": -120,
          "elapsed": 424,
          "user": {
            "displayName": "David Torrejon",
            "photoUrl": "https://lh3.googleusercontent.com/a/default-user=s128",
            "userId": "100674754889499666756"
          }
        }
      },
      "cell_type": "code",
      "source": [
        ""
      ],
      "execution_count": 0,
      "outputs": []
    },
    {
      "metadata": {
        "id": "NzhmrryXNdl-",
        "colab_type": "code",
        "colab": {
          "autoexec": {
            "startup": false,
            "wait_interval": 0
          },
          "base_uri": "https://localhost:8080/",
          "height": 17
        },
        "outputId": "5724a8fc-51fe-421e-aa81-89a2037e1530",
        "executionInfo": {
          "status": "ok",
          "timestamp": 1530786299330,
          "user_tz": -120,
          "elapsed": 428,
          "user": {
            "displayName": "David Torrejon",
            "photoUrl": "https://lh3.googleusercontent.com/a/default-user=s128",
            "userId": "100674754889499666756"
          }
        }
      },
      "cell_type": "code",
      "source": [
        ""
      ],
      "execution_count": 0,
      "outputs": []
    },
    {
      "metadata": {
        "id": "nUHH87RQNdmD",
        "colab_type": "code",
        "colab": {
          "autoexec": {
            "startup": false,
            "wait_interval": 0
          },
          "base_uri": "https://localhost:8080/",
          "height": 17
        },
        "outputId": "f6c3f1ef-47e5-4975-bf79-72d86e3eb8f6",
        "executionInfo": {
          "status": "ok",
          "timestamp": 1530786300056,
          "user_tz": -120,
          "elapsed": 442,
          "user": {
            "displayName": "David Torrejon",
            "photoUrl": "https://lh3.googleusercontent.com/a/default-user=s128",
            "userId": "100674754889499666756"
          }
        }
      },
      "cell_type": "code",
      "source": [
        ""
      ],
      "execution_count": 0,
      "outputs": []
    },
    {
      "metadata": {
        "id": "o1oFInpSNdmG",
        "colab_type": "text"
      },
      "cell_type": "markdown",
      "source": [
        "## Operations with word embeddings\n",
        "\n",
        "Si tenemos vectores... que podemos hacer?\n",
        "\n",
        "### Sumar vectores\n",
        "\n",
        "![](http://hyperphysics.phy-astr.gsu.edu/hbase/imgmec/vec1.gif)\n",
        "\n",
        "### Restar vectores\n",
        "\n",
        "![](https://images.tutorvista.com/cms/images/113/head-to-tail-method.png)\n",
        "\n",
        "### Calcular distancias\n",
        "\n",
        "![](https://image.slidesharecdn.com/semanticimagesegmentatationusingwordembeddings-171106095230/95/oles-petriv-semantic-image-segmentation-using-word-embeddings-27-638.jpg?cb=1509964282)\n",
        "\n",
        "## Si lo vemos como word vectores en lugar de A's y B's\n",
        "\n",
        "![embedding.png](https://i.stack.imgur.com/V43vF.png)"
      ]
    },
    {
      "metadata": {
        "id": "bsrmCjE03req",
        "colab_type": "text"
      },
      "cell_type": "markdown",
      "source": [
        "### Calcular Similitudes"
      ]
    },
    {
      "metadata": {
        "id": "awz28p1ANdmH",
        "colab_type": "code",
        "colab": {
          "autoexec": {
            "startup": false,
            "wait_interval": 0
          },
          "base_uri": "https://localhost:8080/",
          "height": 37
        },
        "outputId": "dd9aa5a0-1b2d-401f-e0cc-a0bd75cbfee3",
        "executionInfo": {
          "status": "ok",
          "timestamp": 1530784596296,
          "user_tz": -120,
          "elapsed": 645,
          "user": {
            "displayName": "David Torrejon",
            "photoUrl": "https://lh3.googleusercontent.com/a/default-user=s128",
            "userId": "100674754889499666756"
          }
        }
      },
      "cell_type": "code",
      "source": [
        "    "
      ],
      "execution_count": 0,
      "outputs": []
    },
    {
      "metadata": {
        "id": "85O-6mvPNdmJ",
        "colab_type": "code",
        "colab": {
          "autoexec": {
            "startup": false,
            "wait_interval": 0
          },
          "base_uri": "https://localhost:8080/",
          "height": 17
        },
        "outputId": "ea7e7678-93a7-49ef-e879-d0f73458b325",
        "executionInfo": {
          "status": "ok",
          "timestamp": 1530784598773,
          "user_tz": -120,
          "elapsed": 443,
          "user": {
            "displayName": "David Torrejon",
            "photoUrl": "https://lh3.googleusercontent.com/a/default-user=s128",
            "userId": "100674754889499666756"
          }
        }
      },
      "cell_type": "code",
      "source": [
        ""
      ],
      "execution_count": 0,
      "outputs": []
    },
    {
      "metadata": {
        "id": "Pq1T_WzZNdmN",
        "colab_type": "code",
        "colab": {
          "autoexec": {
            "startup": false,
            "wait_interval": 0
          },
          "base_uri": "https://localhost:8080/",
          "height": 17
        },
        "outputId": "b83482d5-a97e-4f82-cd43-bbfb7cf58210",
        "executionInfo": {
          "status": "ok",
          "timestamp": 1530784599831,
          "user_tz": -120,
          "elapsed": 438,
          "user": {
            "displayName": "David Torrejon",
            "photoUrl": "https://lh3.googleusercontent.com/a/default-user=s128",
            "userId": "100674754889499666756"
          }
        }
      },
      "cell_type": "code",
      "source": [
        ""
      ],
      "execution_count": 0,
      "outputs": []
    },
    {
      "metadata": {
        "id": "3hfxnFB8NdmU",
        "colab_type": "text"
      },
      "cell_type": "markdown",
      "source": [
        "## Analogías\n",
        "\n",
        "Que son las analogías? Visto en palabras comunes.\n",
        "\n",
        "A es a B lo que C es a D.\n",
        "\n",
        "Matematicamente?\n",
        "\n",
        "D = B - A + C \n",
        "\n",
        "![](https://www.buzzle.com/img/articleImages/536114-22816-24.jpg =400x)\n",
        "\n",
        "### Usaremos Capitales para el ejemplo"
      ]
    },
    {
      "metadata": {
        "id": "UBwebpq7NdmV",
        "colab_type": "code",
        "colab": {
          "autoexec": {
            "startup": false,
            "wait_interval": 0
          },
          "base_uri": "https://localhost:8080/",
          "height": 17
        },
        "outputId": "7f54c906-69e3-4c43-8c45-5b468e4b77f3",
        "executionInfo": {
          "status": "ok",
          "timestamp": 1530784803095,
          "user_tz": -120,
          "elapsed": 428,
          "user": {
            "displayName": "David Torrejon",
            "photoUrl": "https://lh3.googleusercontent.com/a/default-user=s128",
            "userId": "100674754889499666756"
          }
        }
      },
      "cell_type": "code",
      "source": [
        ""
      ],
      "execution_count": 0,
      "outputs": []
    },
    {
      "metadata": {
        "id": "p9uau2MnNdmY",
        "colab_type": "code",
        "colab": {
          "autoexec": {
            "startup": false,
            "wait_interval": 0
          },
          "base_uri": "https://localhost:8080/",
          "height": 17
        },
        "outputId": "4d61f8ec-e83d-4d47-84d5-27a51ab9b412",
        "executionInfo": {
          "status": "ok",
          "timestamp": 1530784805924,
          "user_tz": -120,
          "elapsed": 433,
          "user": {
            "displayName": "David Torrejon",
            "photoUrl": "https://lh3.googleusercontent.com/a/default-user=s128",
            "userId": "100674754889499666756"
          }
        }
      },
      "cell_type": "code",
      "source": [
        ""
      ],
      "execution_count": 0,
      "outputs": []
    },
    {
      "metadata": {
        "id": "McR0KZsuNdmc",
        "colab_type": "code",
        "colab": {
          "autoexec": {
            "startup": false,
            "wait_interval": 0
          }
        }
      },
      "cell_type": "code",
      "source": [
        "uploaded = files.upload()\n",
        "\n",
        "for fn in uploaded.keys():\n",
        "  print('User uploaded file \"{name}\" with length {length} bytes'.format(\n",
        "      name=fn, length=len(uploaded[fn])))"
      ],
      "execution_count": 0,
      "outputs": []
    },
    {
      "metadata": {
        "id": "NXo4WfNXmzzW",
        "colab_type": "code",
        "colab": {
          "autoexec": {
            "startup": false,
            "wait_interval": 0
          }
        }
      },
      "cell_type": "code",
      "source": [
        "capitals = uploaded['global_capitals.json']\n",
        "\n",
        "capitals = json.loads(capitals)"
      ],
      "execution_count": 0,
      "outputs": []
    },
    {
      "metadata": {
        "id": "SqMfO8iTNdmh",
        "colab_type": "code",
        "colab": {
          "autoexec": {
            "startup": false,
            "wait_interval": 0
          }
        }
      },
      "cell_type": "code",
      "source": [
        "from sklearn.manifold import TSNE\n",
        "import matplotlib.pyplot as plt"
      ],
      "execution_count": 0,
      "outputs": []
    },
    {
      "metadata": {
        "id": "AfdNWt3H4vWK",
        "colab_type": "text"
      },
      "cell_type": "markdown",
      "source": [
        "### Visualización con T-SNE\n",
        "\n",
        "T-SNE (t-distributed stochastic neighbor embedding) es un algoritmo que nos permite visualizar datos con muchas dimensiones, como es nuestro caso (50-300 dimensiones), y reducir estas dimensiones a 2-3. Esto os puede recordar a algoritmos como PCA, pero la gran diferencia entre PCA (alike) algoritmos y t-SNE, es que este último intenta preservar las distancias que hay en dimensiones más grandes y que queden patentes en 2 o 3 dimensiones.\n",
        "\n",
        "Para clarificar un poco, el objetivo es el siguiente. Si tenemos una matriz de por ejemplo (5000, 300) obtener una matriz de (5000,2) en la que esos vectores que tenian distancias muy grandes en la original, mantengan al máximo posible esa distáncia en 2d.\n",
        "\n",
        "Os dejo un par de links para los que quieran profundizar sobre el tema:\n",
        "\n",
        "* [t-SNE](https://distill.pub/2016/misread-tsne/)\n",
        "* [Vídeo Corto sobre porque t-SNE](https://www.youtube.com/watch?v=p3wFE85dAyY)"
      ]
    },
    {
      "metadata": {
        "id": "zAr6EsrbNdmj",
        "colab_type": "code",
        "colab": {
          "autoexec": {
            "startup": false,
            "wait_interval": 0
          }
        }
      },
      "cell_type": "code",
      "source": [
        ""
      ],
      "execution_count": 0,
      "outputs": []
    },
    {
      "metadata": {
        "id": "iTnviK-GNdmn",
        "colab_type": "code",
        "colab": {
          "autoexec": {
            "startup": false,
            "wait_interval": 0
          }
        }
      },
      "cell_type": "code",
      "source": [
        "numeros = [str(i) for i in range(10)]\n",
        "escritos = ['zero', 'one', 'two', 'three', 'four', 'five', 'six', 'seven', 'eight', 'nine']\n",
        "months = ['january', 'february', 'march', 'april', 'may','june', 'july', 'august', 'september', 'october', 'november', 'december']\n",
        "various = numeros+escritos+months"
      ],
      "execution_count": 0,
      "outputs": []
    },
    {
      "metadata": {
        "id": "po29cc03Ndmp",
        "colab_type": "code",
        "colab": {
          "autoexec": {
            "startup": false,
            "wait_interval": 0
          },
          "base_uri": "https://localhost:8080/",
          "height": 17
        },
        "outputId": "562ff389-1ce5-4f93-eaf5-55e377775442",
        "executionInfo": {
          "status": "ok",
          "timestamp": 1530785959062,
          "user_tz": -120,
          "elapsed": 433,
          "user": {
            "displayName": "David Torrejon",
            "photoUrl": "https://lh3.googleusercontent.com/a/default-user=s128",
            "userId": "100674754889499666756"
          }
        }
      },
      "cell_type": "code",
      "source": [
        ""
      ],
      "execution_count": 0,
      "outputs": []
    },
    {
      "metadata": {
        "id": "LNsmDnYTNdms",
        "colab_type": "code",
        "colab": {
          "autoexec": {
            "startup": false,
            "wait_interval": 0
          },
          "base_uri": "https://localhost:8080/",
          "height": 17
        },
        "outputId": "31496fe0-5396-48ed-846b-e79d8a677a58",
        "executionInfo": {
          "status": "ok",
          "timestamp": 1530785965987,
          "user_tz": -120,
          "elapsed": 440,
          "user": {
            "displayName": "David Torrejon",
            "photoUrl": "https://lh3.googleusercontent.com/a/default-user=s128",
            "userId": "100674754889499666756"
          }
        }
      },
      "cell_type": "code",
      "source": [
        ""
      ],
      "execution_count": 0,
      "outputs": []
    },
    {
      "metadata": {
        "id": "mx6L7fZdNdmw",
        "colab_type": "code",
        "colab": {
          "autoexec": {
            "startup": false,
            "wait_interval": 0
          },
          "base_uri": "https://localhost:8080/",
          "height": 17
        },
        "outputId": "60abc0ac-5a01-4caa-eac3-6f236751cb42",
        "executionInfo": {
          "status": "ok",
          "timestamp": 1530785969409,
          "user_tz": -120,
          "elapsed": 442,
          "user": {
            "displayName": "David Torrejon",
            "photoUrl": "https://lh3.googleusercontent.com/a/default-user=s128",
            "userId": "100674754889499666756"
          }
        }
      },
      "cell_type": "code",
      "source": [
        ""
      ],
      "execution_count": 0,
      "outputs": []
    },
    {
      "metadata": {
        "id": "d7s757iWNdm1",
        "colab_type": "text"
      },
      "cell_type": "markdown",
      "source": [
        "### Que palabra no forma parte de un grupo?\n",
        "\n",
        "Con word embeddings tambien podemos ver palabras que no nos \"cuadren\" con el resto del texto."
      ]
    },
    {
      "metadata": {
        "id": "ahBIncS3Ndm1",
        "colab_type": "code",
        "colab": {
          "autoexec": {
            "startup": false,
            "wait_interval": 0
          },
          "base_uri": "https://localhost:8080/",
          "height": 37
        },
        "outputId": "df8f4d83-0edf-449a-b348-d2d91c46e3f1",
        "executionInfo": {
          "status": "ok",
          "timestamp": 1530786028715,
          "user_tz": -120,
          "elapsed": 450,
          "user": {
            "displayName": "David Torrejon",
            "photoUrl": "https://lh3.googleusercontent.com/a/default-user=s128",
            "userId": "100674754889499666756"
          }
        }
      },
      "cell_type": "code",
      "source": [
        "    "
      ],
      "execution_count": 0,
      "outputs": []
    },
    {
      "metadata": {
        "id": "GmfFUCEqNdm4",
        "colab_type": "code",
        "colab": {
          "autoexec": {
            "startup": false,
            "wait_interval": 0
          },
          "base_uri": "https://localhost:8080/",
          "height": 17
        },
        "outputId": "309d4f33-5dc9-41b3-da27-0d18bece9eb5",
        "executionInfo": {
          "status": "ok",
          "timestamp": 1530786034064,
          "user_tz": -120,
          "elapsed": 434,
          "user": {
            "displayName": "David Torrejon",
            "photoUrl": "https://lh3.googleusercontent.com/a/default-user=s128",
            "userId": "100674754889499666756"
          }
        }
      },
      "cell_type": "code",
      "source": [
        ""
      ],
      "execution_count": 0,
      "outputs": []
    },
    {
      "metadata": {
        "id": "u6BeW1q6Ndm8",
        "colab_type": "code",
        "colab": {
          "autoexec": {
            "startup": false,
            "wait_interval": 0
          },
          "base_uri": "https://localhost:8080/",
          "height": 17
        },
        "outputId": "496694ba-31b0-47aa-a4c4-a299128f61c7",
        "executionInfo": {
          "status": "ok",
          "timestamp": 1530786039530,
          "user_tz": -120,
          "elapsed": 434,
          "user": {
            "displayName": "David Torrejon",
            "photoUrl": "https://lh3.googleusercontent.com/a/default-user=s128",
            "userId": "100674754889499666756"
          }
        }
      },
      "cell_type": "code",
      "source": [
        ""
      ],
      "execution_count": 0,
      "outputs": []
    },
    {
      "metadata": {
        "id": "aEs6x7ygNdnC",
        "colab_type": "code",
        "colab": {
          "autoexec": {
            "startup": false,
            "wait_interval": 0
          },
          "base_uri": "https://localhost:8080/",
          "height": 17
        },
        "outputId": "ec635b4d-f47d-457d-80c4-4782e01fd0a2",
        "executionInfo": {
          "status": "ok",
          "timestamp": 1530786043070,
          "user_tz": -120,
          "elapsed": 424,
          "user": {
            "displayName": "David Torrejon",
            "photoUrl": "https://lh3.googleusercontent.com/a/default-user=s128",
            "userId": "100674754889499666756"
          }
        }
      },
      "cell_type": "code",
      "source": [
        ""
      ],
      "execution_count": 0,
      "outputs": []
    },
    {
      "metadata": {
        "id": "QrqTX1p1NdnH",
        "colab_type": "text"
      },
      "cell_type": "markdown",
      "source": [
        "# Word Embeddings as spellchecker (Opcional)"
      ]
    },
    {
      "metadata": {
        "id": "3PNu3IW2NdnH",
        "colab_type": "code",
        "colab": {
          "autoexec": {
            "startup": false,
            "wait_interval": 0
          },
          "base_uri": "https://localhost:8080/",
          "height": 37
        },
        "outputId": "666c8459-6385-4d93-e22d-ed7c8a3c1be2",
        "executionInfo": {
          "status": "ok",
          "timestamp": 1530786061044,
          "user_tz": -120,
          "elapsed": 555,
          "user": {
            "displayName": "David Torrejon",
            "photoUrl": "https://lh3.googleusercontent.com/a/default-user=s128",
            "userId": "100674754889499666756"
          }
        }
      },
      "cell_type": "code",
      "source": [
        "    "
      ],
      "execution_count": 0,
      "outputs": []
    },
    {
      "metadata": {
        "id": "_jcd6IxyNdnL",
        "colab_type": "code",
        "colab": {
          "autoexec": {
            "startup": false,
            "wait_interval": 0
          },
          "base_uri": "https://localhost:8080/",
          "height": 17
        },
        "outputId": "a28a8c23-bf99-43a2-ec4f-7e7f3e55ad40",
        "executionInfo": {
          "status": "ok",
          "timestamp": 1530786062423,
          "user_tz": -120,
          "elapsed": 443,
          "user": {
            "displayName": "David Torrejon",
            "photoUrl": "https://lh3.googleusercontent.com/a/default-user=s128",
            "userId": "100674754889499666756"
          }
        }
      },
      "cell_type": "code",
      "source": [
        ""
      ],
      "execution_count": 0,
      "outputs": []
    },
    {
      "metadata": {
        "id": "Mq8BspqNNdnN",
        "colab_type": "code",
        "colab": {
          "autoexec": {
            "startup": false,
            "wait_interval": 0
          },
          "base_uri": "https://localhost:8080/",
          "height": 17
        },
        "outputId": "9747712b-825b-417a-b6b9-987643bc884f",
        "executionInfo": {
          "status": "ok",
          "timestamp": 1530786064039,
          "user_tz": -120,
          "elapsed": 508,
          "user": {
            "displayName": "David Torrejon",
            "photoUrl": "https://lh3.googleusercontent.com/a/default-user=s128",
            "userId": "100674754889499666756"
          }
        }
      },
      "cell_type": "code",
      "source": [
        ""
      ],
      "execution_count": 0,
      "outputs": []
    },
    {
      "metadata": {
        "id": "nJjoQDdsNdnQ",
        "colab_type": "code",
        "colab": {
          "autoexec": {
            "startup": false,
            "wait_interval": 0
          },
          "base_uri": "https://localhost:8080/",
          "height": 17
        },
        "outputId": "b2d7d6f9-9563-4be8-b3c2-287c091237d7",
        "executionInfo": {
          "status": "ok",
          "timestamp": 1530786066922,
          "user_tz": -120,
          "elapsed": 440,
          "user": {
            "displayName": "David Torrejon",
            "photoUrl": "https://lh3.googleusercontent.com/a/default-user=s128",
            "userId": "100674754889499666756"
          }
        }
      },
      "cell_type": "code",
      "source": [
        ""
      ],
      "execution_count": 0,
      "outputs": []
    },
    {
      "metadata": {
        "id": "wM-z1a_KNdnV",
        "colab_type": "code",
        "colab": {
          "autoexec": {
            "startup": false,
            "wait_interval": 0
          },
          "base_uri": "https://localhost:8080/",
          "height": 17
        },
        "outputId": "b7dfef48-90e1-47ff-9852-da0a5660d358",
        "executionInfo": {
          "status": "ok",
          "timestamp": 1530786069997,
          "user_tz": -120,
          "elapsed": 428,
          "user": {
            "displayName": "David Torrejon",
            "photoUrl": "https://lh3.googleusercontent.com/a/default-user=s128",
            "userId": "100674754889499666756"
          }
        }
      },
      "cell_type": "code",
      "source": [
        ""
      ],
      "execution_count": 0,
      "outputs": []
    },
    {
      "metadata": {
        "id": "DKUreKJwsHJx",
        "colab_type": "text"
      },
      "cell_type": "markdown",
      "source": [
        "## Bias and Fairness in Word Embeddings\n",
        "\n",
        "Uno de los problemas actuales más presentes en el uso de técnicas que aprenden de datos de internet, es alto sesgo que nos podemos encontrar en los modelos que aprendemos.\n",
        "\n",
        "<div align=\"centre\">\n",
        "    ![](https://abhishek-tiwari.com/assets/images/Gender-biases-in-word-embeddings.png)\n",
        "</div>\n",
        "\n",
        "Os dejo este [artículo](https://retina.elpais.com/retina/2017/05/12/tendencias/1494612619_910023.html) que se publicó en El País al respecto.\n",
        "\n",
        "Aquí tenéis otro [ejemplo](https://www.theverge.com/2016/3/24/11297050/tay-microsoft-chatbot-racist) Un chatbot que se entrenaba con lo que iba leyendo de twitter, y en menos de 24 horas pasó de ser amable, a en fin... leed vosotros mismos.\n",
        "\n",
        "Estamos empezando a trabajar en como intentar que no haya sesgo en nuestros datos, pero aún es pronto. \n",
        "\n",
        "En NLP, tenéis que tener mucho cuidado, sobretodo si aplicáis NLP a *social media* de que vuestros datos esten lo más *limpios* y menos sesgados posibles.\n",
        "\n",
        "![](https://temboo.files.wordpress.com/2017/07/garbageingarbageout1.png?w=515&h=221). "
      ]
    }
  ]
}